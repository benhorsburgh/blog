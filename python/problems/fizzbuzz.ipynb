{
 "cells": [
  {
   "cell_type": "markdown",
   "id": "dfca2a0f-a086-41a4-80bb-71cf88b194c9",
   "metadata": {},
   "source": [
    "# Fizz Buzz\n",
    "\n",
    "Fizz Buzz is a primary school game for children, that aims to help them practice doing simple division quickly in their head. In the game players sit in a circle and take turns counting from one until the game ends. Each time a player’s number is divisible by three though, they must shout “FIZZ”, and each time it is divisible by five they must shout “BUZZ”. If the number is divisible by both three and five they must shout “FIZZ BUZZ”. If at any point someone shouts the wrong thing, they are out of the game – no second chances!\n",
    "\n",
    "![Fizz Buzz game](fizz-buzz-game.png)"
   ]
  },
  {
   "cell_type": "markdown",
   "id": "72bee32a-5e73-45b7-bd96-2ca5d1f7d35e",
   "metadata": {},
   "source": [
    "## Programming Fizz Buzz\n",
    "\n",
    "Whilst primary school teachers love to make math fun and should be applauded, programming interviewers love to ruin all that fun with contrived problems. One of their favourite tricks is to make you code Fizz Buzz as a one player game. Only if you lose this game, you don’t get the job!\n",
    "\n",
    "Typically this interview question is asked something similar to:\n",
    "\n",
    "> Write a program that prints the numbers from 1 to 100. If a number is a multiple of three print \n",
    "> “Fizz” instead of the number, or If a number is a multiple of five “Buzz”. \n",
    "> If a number is a multiple of both three > and five print “FizzBuzz”.\n",
    "\n",
    "A typical first solution to this problem might look something like the following code snippet:"
   ]
  },
  {
   "cell_type": "code",
   "execution_count": 5,
   "id": "a1fef3fa-7794-4e84-b61d-8573255a10a5",
   "metadata": {},
   "outputs": [
    {
     "name": "stdout",
     "output_type": "stream",
     "text": [
      "1\n",
      "2\n",
      "FIZZ\n",
      "4\n",
      "BUZZ\n",
      "FIZZ\n",
      "7\n",
      "8\n",
      "FIZZ\n",
      "BUZZ\n",
      "11\n",
      "FIZZ\n",
      "13\n",
      "14\n",
      "FIZZBUZZ\n"
     ]
    }
   ],
   "source": [
    "for n in range(1, 16):\n",
    "    if n % 3 == 0 and n % 5 == 0:\n",
    "        print(\"FIZZBUZZ\")\n",
    "    elif n % 3 == 0:\n",
    "        print(\"FIZZ\")\n",
    "    elif n % 5 == 0:\n",
    "        print(\"BUZZ\")\n",
    "    else:\n",
    "        print(n)"
   ]
  },
  {
   "cell_type": "markdown",
   "id": "835b8d6d-cb11-4f67-814d-da79b59b2309",
   "metadata": {},
   "source": [
    "Getting to this solution is a good first step, and one which many people struggle with under the pressure of an interview. Common mistakes include forgetting that range has an inclusive lower bound but an exclusive upper one, and muddling up the order of the conditions. This solution could definitely be improved a bit though."
   ]
  },
  {
   "cell_type": "markdown",
   "id": "0ac93e36-af29-4e99-840e-edcd625f0a15",
   "metadata": {},
   "source": [
    "## What next?\n",
    "\n",
    "The solution shown is functionally correct, but can be improved in several ways.\n",
    "\n",
    "* __Extensibility__: What if we wanted to play Fizz Buzz with numbers other than 3 and 5? Currently the solution would require rewriting, which in a real program would mean updating many tests, documentation, etc…\n",
    "* __Performance__: What if we wanted our program to be as performant as possible? The above solution can be optimised in many ways to make it faster to run.\n",
    "* __Readability__: Chaining many if-elif-else together is an easy first approach, but it is most definitely not the most readable. This can be cleaned up using conditional string formatting in recent versions of python."
   ]
  }
 ],
 "metadata": {
  "kernelspec": {
   "display_name": "Python 3 (ipykernel)",
   "language": "python",
   "name": "python3"
  },
  "language_info": {
   "codemirror_mode": {
    "name": "ipython",
    "version": 3
   },
   "file_extension": ".py",
   "mimetype": "text/x-python",
   "name": "python",
   "nbconvert_exporter": "python",
   "pygments_lexer": "ipython3",
   "version": "3.10.0"
  }
 },
 "nbformat": 4,
 "nbformat_minor": 5
}
