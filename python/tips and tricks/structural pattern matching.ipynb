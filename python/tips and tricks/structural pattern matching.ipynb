{
 "cells": [
  {
   "cell_type": "markdown",
   "id": "a975e4a9-7e73-4019-9a9f-2677f504fe8f",
   "metadata": {},
   "source": [
    "# Structural Pattern Matching\n",
    "\n",
    "Python 3.10 was released on 4th October 2021 and introduces [several new features](https://docs.python.org/3/whatsnew/3.10.html) and improvements to the language. One of the biggest new introductions is structural pattern matching, which on the face of it is similar to case, switch, or match statements in other languages. Python 3.10 has its own twist on this however with some nifty new approaches.\n",
    "\n",
    "To demonstrate python structural pattern matching we can think about parsing a [logo program](https://en.wikipedia.org/wiki/Logo_(programming_language)) as an example. A great way to learn and play with the logo language is [Turtle Academy](https://turtleacademy.com/).\n",
    "\n",
    "A simple version of the Logo language has the following commands:\n",
    "\n",
    "| Command | Short Command | Argument | Example                                         |\n",
    "|---------|---------------|----------|-------------------------------------------------|\n",
    "| forward | fd            | distance | forward 50<br>go forwards 50 steps              |\n",
    "| back    | bk            | distance | back 50<br>go backwards 50 steps                |\n",
    "| left    | lt            | degrees  | left 90<br>turn left 90 degrees                 |\n",
    "| right   | rt            | degrees  | right 180<br>turn right 180 degrees             |\n",
    "| penup   | pu            | –        | penup<br>lift the pen up so it no longer writes |\n",
    "| pendown | pd            | –        | pendown<br>put the pen down so it writes        |"
   ]
  },
  {
   "cell_type": "markdown",
   "id": "7e5a7bbb-47db-49d7-8fa5-e6c5664eaf03",
   "metadata": {},
   "source": [
    "For example, we can create the spiral below based on repeatedly drawing an almost-square shape:\n",
    "\n",
    "![](structural-pattern-matching.png)\n",
    "\n",
    "using the following turtle program:\n",
    "\n",
    "```text\n",
    "pendown\n",
    "forward 1\n",
    "left 91\n",
    "forward 2\n",
    "left 91\n",
    "forward 3\n",
    "left 91\n",
    "forward 4\n",
    "left 91\n",
    " \n",
    "# ...\n",
    " \n",
    "forward 499\n",
    "left left 91\n",
    "forward 500\n",
    "penup\n",
    "```"
   ]
  },
  {
   "cell_type": "markdown",
   "id": "f0f9bdb9-20f5-4ad3-8654-eb8886e8721c",
   "metadata": {},
   "source": [
    "## Pattern matching variables\n",
    "\n",
    "Python 3.10 introduces the new match statement, which we can use to pattern match if we should parse an action, or a move command. The match statement behaves somewhat like a combination of an `if-elif-else` block, and `tuple` unpacking.\n",
    "\n",
    "First, we provide the thing we want to match against. In our example, this is match `command.split()`. Next, we provide a list of cases that we want to match, in our example any command that has a single action item in it, or both a move and an amount in it."
   ]
  },
  {
   "cell_type": "code",
   "execution_count": 4,
   "id": "56b5658e-6c52-40c8-9d6e-a147d6a8fee5",
   "metadata": {},
   "outputs": [],
   "source": [
    "command = \"forward 49\"\n",
    "match command.split():\n",
    "    case [action]:\n",
    "        ...  # handle penup / pendown actions\n",
    "    case [move, amount]:\n",
    "        ...  # handle forward / back / left / right amounts"
   ]
  },
  {
   "cell_type": "markdown",
   "id": "d5167c36-5bf2-4cd4-aab5-fa5a08a09419",
   "metadata": {},
   "source": [
    "If any case block matches then the contents of that block are executed, and the match statement is left. This is different to some other languages where multiple cases could be matches.\n",
    "\n",
    "> In python 3.10 only the first matching case is executed.\n",
    "\n",
    "Without the new match statement perhaps we would have written this block as"
   ]
  },
  {
   "cell_type": "code",
   "execution_count": 6,
   "id": "c293f300-ee80-4719-b7d2-285d364f5eed",
   "metadata": {},
   "outputs": [],
   "source": [
    "command_split = command.split()\n",
    "if len(command_split) == 1:\n",
    "    [action] = command_split\n",
    "    # hand penup / pendown actions\n",
    "elif len(command_split) == 2:\n",
    "    move, amount = command_split\n",
    "    # handle forward / back / left / right amounts"
   ]
  },
  {
   "cell_type": "markdown",
   "id": "f3481a6d-818b-4a40-b925-c21b0bdab1cc",
   "metadata": {},
   "source": [
    "which is much less semantically meaningful than the version using the new match statement. Through combining the conditions and unpacking, the match statement allows us to write much more intuitive code."
   ]
  },
  {
   "cell_type": "markdown",
   "id": "2f0dc28d-5868-4276-98ab-e562b75920bb",
   "metadata": {},
   "source": [
    "## Pattern matching literals\n",
    "\n",
    "If we want to match specific input we can also match pattern literals. In this example, we match the input command “pendown”, which we can then process. In this way, we can match exactly the input that we want, as opposed to just the pattern on the input."
   ]
  },
  {
   "cell_type": "code",
   "execution_count": 7,
   "id": "1161489a-67a5-4b70-97e2-d8c619f1a592",
   "metadata": {},
   "outputs": [],
   "source": [
    "match command.split():\n",
    "    case [\"pendown\"]:\n",
    "        ...  # handle pen down"
   ]
  },
  {
   "cell_type": "markdown",
   "id": "6d3baf29-b040-4cf7-843b-c5925d46d222",
   "metadata": {},
   "source": [
    "## Pattern matching wildcards\n",
    "\n",
    "If no case statement matches then the entire block is gracefully skipped over just as an extended `if-elif` block would be. To handle the case where we would usually add an `else` statement, we can finish our match block with a wildcard match. Similar to other python standard language features, we can specify a wildcard using the underscore character. For example: "
   ]
  },
  {
   "cell_type": "code",
   "execution_count": 8,
   "id": "21aa8ea5-9f0a-4caf-9845-fd1871dd496f",
   "metadata": {},
   "outputs": [],
   "source": [
    "match command.split():\n",
    "    case [\"pendown\"]:\n",
    "        ...  # handle pen down\n",
    "    case _:\n",
    "        ...  # handle default case"
   ]
  },
  {
   "cell_type": "markdown",
   "id": "b5a13064-ba44-4302-b44b-1de44e0fd7b0",
   "metadata": {},
   "source": [
    "will try to match the input `\"pendown\"`, but if it is not found, will execute the final case block. The specific pattern case `_` can only occur as the final case of a match statement, since it would be impossible to ever reach anything beyond it."
   ]
  },
  {
   "cell_type": "markdown",
   "id": "81b97092-541c-4d69-acaa-a4f44ebaf682",
   "metadata": {},
   "source": [
    "## Mixing pattern types\n",
    "\n",
    "So far we have covered the three primary pattern types that the match statement works with:\n",
    "\n",
    "1. Capture Patterns so called because they capture a placeholder in the input into a variable\n",
    "2. Literal Patterns that allow us to match exact inputs\n",
    "3. Wildcard Pattern that allows us to describe a pattern to match any given input\n",
    "\n",
    "The match statement allows any combination of these three types of patterns, which can be used to make much more complex patterns. In an earlier example we matched for a case `[move, amount]`, but our logo program allows several different moves: forward, back, left, and right. This means we would have to do a further nested match, which would be against the [Zen of Python](https://www.python.org/dev/peps/pep-0020/).\n",
    "\n",
    "Instead, we can combine the literal pattern `\"forward\"` with a capture pattern amount:"
   ]
  },
  {
   "cell_type": "code",
   "execution_count": 9,
   "id": "db63e02f-3145-4898-bb66-70dbfd66007b",
   "metadata": {},
   "outputs": [],
   "source": [
    "match command.split():\n",
    "    case [\"forward\", amount]:\n",
    "        ...  # handle forward amount"
   ]
  },
  {
   "cell_type": "markdown",
   "id": "db321aa7-012a-47a1-b1ac-4a5d1e2363bd",
   "metadata": {},
   "source": [
    "Now inside this case we know that the command was `“forward”`, not some other command. This removes the need for further logic inside our code, making it much more readable and maintainable."
   ]
  },
  {
   "cell_type": "markdown",
   "id": "03fab6f7-f557-4d88-9e54-3f7f47f7bc04",
   "metadata": {},
   "source": [
    "## Alternatives inside a pattern\n",
    "\n",
    "If we want to add alternatives to our patterns, we can do so using the pipe operator, `|`, between each alternative. For example, if we want to be able to match both the full command `\"forward\"` and the short version `\"fd\"` in a single statement, whilst also capturing the amount into a variable, we can use the following snippet."
   ]
  },
  {
   "cell_type": "code",
   "execution_count": 11,
   "id": "f21b9004-3019-4484-a6c2-006f9ffc8267",
   "metadata": {},
   "outputs": [],
   "source": [
    "match command.split():\n",
    "    case [\"forward\", amount] | [\"fd\", amount]:\n",
    "        ...  # handle forward amount"
   ]
  },
  {
   "cell_type": "markdown",
   "id": "f07ff196-958f-4f96-ae41-a7a4dd1ff046",
   "metadata": {},
   "source": [
    "This case will enter the matching block if the user types either `forward 90` or `fd 90` for example.\n",
    "\n",
    "Python 3.10 enforces that the captured variables must match exactly when using the pipe operator to express alternatives. If this were not the case, it would be impossible to know which variables would be set or not within the block prior to runtime, leading to a potential source of bugs and confusion."
   ]
  },
  {
   "cell_type": "markdown",
   "id": "7cddf699-e3ec-46e7-97e1-105d9e4e5393",
   "metadata": {},
   "source": [
    "## Sub patterns\n",
    "\n",
    "Structural pattern matching also allows for sub patterns in case statements, where a single element is expressed by a complex pattern, rather than one of the more simple capture, literal, and wildcard pattern types. In our logo program, users can rotate either `right` or `left` by some number of degrees.\n",
    "\n",
    "We can express this case with the following pattern:"
   ]
  },
  {
   "cell_type": "code",
   "execution_count": 13,
   "id": "d131cbc5-3d11-4b63-ad0d-8682685e5d60",
   "metadata": {},
   "outputs": [],
   "source": [
    "match command.split():\n",
    "    case [(\"right\" | \"left\"), degrees]:\n",
    "        ...  # handle right/left degrees"
   ]
  },
  {
   "cell_type": "markdown",
   "id": "cffe6439-9c1d-435a-b86f-982a8e9430bb",
   "metadata": {},
   "source": [
    "The sub-pattern is denoted within round brackets, and is an alternative pattern of the strings `“right”` or `“left”`."
   ]
  },
  {
   "cell_type": "markdown",
   "id": "e834d1bf-8a03-4d80-9c32-2c37ba26f39f",
   "metadata": {},
   "source": [
    "## Capturing a sub pattern\n",
    "\n",
    "In the previous sub pattern example we matched either a right or left turn by some degrees, but when inside the case block are unable to know if we matched right, or if we matched left! Literal patterns are not captured, because they can only possibly be one thing. In our example though we created a complex pattern with two alternative string literals.\n",
    "\n",
    "Thankfully python 3.10 introduces a mechanism for us to explicitly capture any part of our pattern using the as keyword, similar to how it is used when importing. Following is the same pattern match, but this time with the direction captured:"
   ]
  },
  {
   "cell_type": "code",
   "execution_count": 14,
   "id": "b18147b1-20b0-4d9a-b8a9-61165a432425",
   "metadata": {},
   "outputs": [],
   "source": [
    "match command.split():\n",
    "    case [(\"right\" | \"left\") as direction, degrees]:\n",
    "        ...  # handle direction degrees"
   ]
  },
  {
   "cell_type": "markdown",
   "id": "6deb1deb-330a-42e0-9111-8797e2323917",
   "metadata": {},
   "source": [
    "When this case is matched and the code block entered, we now have access to two captured variables: `direction` and `degrees`."
   ]
  },
  {
   "cell_type": "markdown",
   "id": "6bbaa0f1-a476-4477-a0df-df8955167851",
   "metadata": {},
   "source": [
    "## Conditional matches\n",
    "\n",
    "So far we have matches on patterns, and any logic around that match would be pushed inside the case block. Similar to how python works in comprehensions though, we can also attach conditional logic to case statements.\n",
    "\n",
    "In the following example, our case matches a right turn command, but only if the number of degrees specified is between 0 and 360."
   ]
  },
  {
   "cell_type": "code",
   "execution_count": 15,
   "id": "0585c6ab-f3d5-4832-861d-b8dd70ce6630",
   "metadata": {},
   "outputs": [],
   "source": [
    "match command.split():\n",
    "    case [\"right\", degrees] if 0 <= degrees <= 360:\n",
    "        ...  # handle right degrees"
   ]
  },
  {
   "cell_type": "markdown",
   "id": "fb55cf57-0400-44d5-817b-049e1eda7811",
   "metadata": {},
   "source": [
    "It is only possible to have one conditional match per case, since the conditions are applied on the entire case statement, not on sub patterns. This is because access to all variables is potentially needed, and so the case must be fully matched before the logic is introduced. This makes the feature slightly less powerful than logic in comprehensions, but still a very useful tool."
   ]
  },
  {
   "cell_type": "markdown",
   "id": "b0b87bef-af29-42e0-8190-e6cc1ca91ceb",
   "metadata": {},
   "source": [
    "## More on wildcards\n",
    "\n",
    "So far we have just seen wildcards as a way to express the final case in a structured pattern match block. However, they can be much more powerful than that. The wildcard operator can be used in a similar way to tuple unpacking. Let’s look at a couple of examples.\n",
    "\n",
    "The following snippet matches the literal “right”, followed by a wildcard, which is not captured. This is helpful when we want a case to match without the need for access to variables describing what was captured."
   ]
  },
  {
   "cell_type": "code",
   "execution_count": 16,
   "id": "f3b0142c-a021-4c0c-a93e-5e799a817529",
   "metadata": {},
   "outputs": [],
   "source": [
    "match command.split():\n",
    "    case [\"right\", _]:\n",
    "        ...  # handle right"
   ]
  },
  {
   "cell_type": "markdown",
   "id": "8f6faf43-bfa8-4d59-a588-b8a778d878bf",
   "metadata": {},
   "source": [
    "The following snippet matches the case right 90 for example followed by anything else. This could be useful to allow a string of commands for example, with the match called recursively."
   ]
  },
  {
   "cell_type": "code",
   "execution_count": 18,
   "id": "ae2deb16-fb21-458c-899b-dd34009a7072",
   "metadata": {},
   "outputs": [],
   "source": [
    "match command.split():\n",
    "    case [\"right\", degrees, *_]:\n",
    "        ...  # handle right degrees"
   ]
  },
  {
   "cell_type": "markdown",
   "id": "9bfc2ade-cd39-4a8b-ac47-55d327488535",
   "metadata": {},
   "source": [
    "## Matching types\n",
    "\n",
    "Pattern matching isn’t limited to capturing arrays, and literals aren’t limited to strings – we can be much more expressive! Here are a few examples:\n",
    "\n",
    "### Dictionaries\n",
    "\n",
    "The following snippet matches a command given as a dictionary instead of an array. In this case only the keys specified in the pattern need to match and all other parts of the dictionary are ignored."
   ]
  },
  {
   "cell_type": "code",
   "execution_count": 19,
   "id": "36142876-b432-4cb7-a3ca-28be5917bb7e",
   "metadata": {},
   "outputs": [],
   "source": [
    "program = {\"command\": \"right\", \"degrees\": 100}\n",
    " \n",
    "match program:\n",
    "    case {\"command\": \"right\"}:\n",
    "        ...  # handle right turn without knowing degrees"
   ]
  },
  {
   "cell_type": "markdown",
   "id": "dcac7717-4e41-4064-a393-f15debc45f22",
   "metadata": {},
   "source": [
    "To capture any remaining keys in the dictionary we can modify the example slightly so that we capture them in a similar way to `**kwargs` in method definitions:"
   ]
  },
  {
   "cell_type": "code",
   "execution_count": 21,
   "id": "e6c2dfdf-69da-48a6-a22a-f7d857745fe8",
   "metadata": {},
   "outputs": [],
   "source": [
    "match program:\n",
    "    case {\"command\": \"right\", **other}:\n",
    "        ...  # handle right turn capturing other parts of dictionary"
   ]
  },
  {
   "cell_type": "markdown",
   "id": "8795c7e2-ab22-4739-94d6-8eb54a6db8f4",
   "metadata": {},
   "source": [
    "### Classes\n",
    "\n",
    "The following snippet demonstrates how to match classes, where we can specify a pattern based on the attributes of that class."
   ]
  },
  {
   "cell_type": "code",
   "execution_count": 22,
   "id": "f99f98c7-26d2-4abe-b7b6-3bd9c6e1b22e",
   "metadata": {},
   "outputs": [],
   "source": [
    "from dataclasses import dataclass\n",
    " \n",
    "@dataclass\n",
    "class TurnCommand:\n",
    "    command: str\n",
    "    degrees: int\n",
    " \n",
    "match command:\n",
    "    case TurnCommand(\"right\"):\n",
    "        ...  # hand turn right command"
   ]
  },
  {
   "cell_type": "markdown",
   "id": "1a44ec6a-d1f4-44ed-bc45-78adad7f1044",
   "metadata": {},
   "source": [
    "With any class type which has a defined attribute ordering this pattern matching style will work, for example with data classes or named tuples. For classes where there is no explicitly defined ordering, a new builtin attribute has been added to the language: `__match_args__`. For example, we could have written `TurnCommand` as a normal python class, but with our constructor accepting arguments the opposite way around:"
   ]
  },
  {
   "cell_type": "code",
   "execution_count": 23,
   "id": "80164143-a808-40e6-8200-84fbaf5c987c",
   "metadata": {},
   "outputs": [],
   "source": [
    "class TurnCommand:\n",
    "    __match_args__ = (\"command\", \"degrees\")\n",
    "    def __init__(deg: int, cmd: str):\n",
    "        self.degrees = deg\n",
    "        self.command = cmd\n",
    " \n",
    "match command:\n",
    "    case TurnCommand(\"right\"):\n",
    "        ...  # hand turn right command"
   ]
  },
  {
   "cell_type": "markdown",
   "id": "d63150a4-02d4-4ad3-b65a-eff039047455",
   "metadata": {},
   "source": [
    "### Builtin types\n",
    "\n",
    "Similar to with classes we can also capture any builtin type, not just string literals. We can capture an integer input with the following snippet:"
   ]
  },
  {
   "cell_type": "code",
   "execution_count": 25,
   "id": "663b2b6d-a7dc-4518-bde4-970a25dffec2",
   "metadata": {},
   "outputs": [],
   "source": [
    "program = \"forward 10\"\n",
    "match program.split():\n",
    "    case [\"forward\", int() as amount]:\n",
    "        ...  # handle forward amount"
   ]
  },
  {
   "cell_type": "markdown",
   "id": "23bfc82d-cb28-4394-b57b-ff88cf6533c9",
   "metadata": {},
   "source": [
    "This allows us to capture the amount as an instance of int, rather than matching anything which is given in this position. [PEP-634](https://www.python.org/dev/peps/pep-0634/) defines that the following types will work in this way: `bool`, `bytearray`, `bytes`, `dict`, `float`, `frozenset`, `int`, `list`, `set`, `str`, and `tuple`.\n",
    "\n",
    "As a convenience, for these builtin types it is also possible to capture directly within the type by using a positional parameter. The following snippet is equivalent to the previous example:"
   ]
  },
  {
   "cell_type": "code",
   "execution_count": 26,
   "id": "3bcacda8-212b-4588-bb2e-a7a13d4bc46e",
   "metadata": {},
   "outputs": [],
   "source": [
    "match program.split():\n",
    "    case [\"forward\", int(amount)]:\n",
    "        ...  # handle forward amount"
   ]
  },
  {
   "cell_type": "markdown",
   "id": "47b5a86b-0487-4da1-8344-c6d15d10de10",
   "metadata": {},
   "source": [
    "## Final thoughts\n",
    "\n",
    "Structural pattern matching is a long awaited new feature for the python language which finally cleans up those pesky long `if-elif-else` blocks with hidden logic inside them. The way matching works is very intuitive to those who are familiar with tuple unpacking, and should remove many use cases where people reach for the dreaded regex package.\n",
    "\n",
    "All told, this new feature should make code significantly more expressive, semantically meaningful, and easier to maintain. Personally I’m super excited to get more familiar with it in practice, and learn what works and what doesn’t."
   ]
  }
 ],
 "metadata": {
  "kernelspec": {
   "display_name": "Python 3 (ipykernel)",
   "language": "python",
   "name": "python3"
  },
  "language_info": {
   "codemirror_mode": {
    "name": "ipython",
    "version": 3
   },
   "file_extension": ".py",
   "mimetype": "text/x-python",
   "name": "python",
   "nbconvert_exporter": "python",
   "pygments_lexer": "ipython3",
   "version": "3.10.0"
  }
 },
 "nbformat": 4,
 "nbformat_minor": 5
}
