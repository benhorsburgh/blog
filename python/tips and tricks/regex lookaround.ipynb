{
 "cells": [
  {
   "cell_type": "markdown",
   "id": "926930cd-7be3-43f7-9b11-a3d99a7a1425",
   "metadata": {},
   "source": [
    "# Regex Lookaround\n",
    "\n",
    "Regular expressions are a great tool to reach for when the right situation arises. One common case that can be tricky using only simple matching approaches is extracting something based on what comes before or after it. This is especially tricky when trying to extract something only when it is _not_ before or after a pattern.\n",
    "\n",
    "As an example, we have been given a list of ingredients for some chocolate muffins. Using this list, we would like to calculate the total cost of the recipe.\n",
    "\n",
    "```{margin} Recipe\n",
    "ingredients list based on [chocolate muffins](https://www.bbcgoodfood.com/recipes/chocolate-muffins) recipe but scaled up to 24 servings\n",
    "```\n",
    "\n",
    "* 500g plain flour – 20p @ £0.40/kg\n",
    "* 100g cocoa powder – £1.20 @ £12/kg\n",
    "* 4 tsp baking powder – 8p @ £3.50/kg\n",
    "* 4 large egg – £1.60 @ £0.40/each\n",
    "* 240g caster sugar – 40p @ £1.60/kg\n",
    "* 8 tbsp vegetable oil – 12p @ £1/kg\n",
    "* 1pint whole milk – 50p @ £0.50/pint\n",
    "* 200g chocolate chips (optional) – £1.60 @ £8/kg\n",
    "* 400g icing sugar – £1.20 @£3/kg\n",
    "\n",
    "To do this, we need to first extract all of the total costs for each ingredient, but ignore things like weights, quantities, and prices. Additionally, we must also handle some costs being given in pounds, for example £1.60 for 4 large eggs, and some being given in pence, for example 50p for milk. Finally, we can add the extracted costs together."
   ]
  },
  {
   "cell_type": "markdown",
   "id": "c2f2f2f9-198c-4405-9059-17fba881c241",
   "metadata": {},
   "source": [
    "## Extracting numbers\n",
    "\n",
    "Let’s start by first extracting all numbers from our ingredients list using a simple regular expression."
   ]
  },
  {
   "cell_type": "code",
   "execution_count": 1,
   "id": "f5c36c0f-d72a-414a-b9b9-a10e388923fe",
   "metadata": {},
   "outputs": [
    {
     "name": "stdout",
     "output_type": "stream",
     "text": [
      "['500', '20', '0.40', '100', '1.20', '12', '4', '8', '3.50', '4', '1.60', '0.40', '240', '40', '1.60', '8', '12', '1', '1', '50', '0.50', '200', '1.60', '8', '400', '1.20', '3']\n"
     ]
    }
   ],
   "source": [
    "import re\n",
    " \n",
    "ingredients = \"\"\"\n",
    "500g plain flour - 20p @ £0.40/kg\n",
    "100g cocoa powder - £1.20 @ £12/kg\n",
    "4 tsp baking powder - 8p @ £3.50/kg\n",
    "4 large egg - £1.60 @ £0.40/each\n",
    "240g caster sugar - 40p @ £1.60/kg\n",
    "8 tbsp vegetable oil - 12p @ £1/kg\n",
    "1pint whole milk - 50p @ £0.50/pint\n",
    "200g chocolate chips (optional)  - £1.60 @ £8/kg\n",
    "400g icing sugar - £1.20 @ £3/kg\n",
    "\"\"\"\n",
    " \n",
    "numbers = re.findall(r\"([0-9]+(?:\\.[0-9]{2})?)\", ingredients)\n",
    "print(numbers)"
   ]
  },
  {
   "cell_type": "markdown",
   "id": "deae100e-3e51-4ef5-b057-056e65b30ebc",
   "metadata": {},
   "source": [
    "Let’s take a closer look at the regex that let us extract all of these numbers.\n",
    "\n",
    "| regex section          | what it means                              |\n",
    "|------------------------|--------------------------------------------|\n",
    "| `([0-9]+(?:.[0-9]{2})?)` | the full regular expression                |\n",
    "| `(____________________)` | start a new match group that is returned   |\n",
    "| `_[0-9]+_______________` | match any number                           |\n",
    "| `_______(___________)?_` | start a new optional match group           |\n",
    "| `________?:____________` | don’t create separate return for group     |\n",
    "| `__________.[0-9]{2}___` | match decimal point followed by two digits |\n",
    "\n",
    "Now that we have all of the numbers in the text extracted, we can think about how we filter this down to only the numbers which are related to costs so that we can sum them."
   ]
  },
  {
   "cell_type": "markdown",
   "id": "71c70332-0506-457d-a34a-e06dc4b5a938",
   "metadata": {},
   "source": [
    "## Positive lookbehind\n",
    "\n",
    "We could identify which numbers are pounds by introducing the pound symbol to the start of our regular expression. Let’s take a quick look at what would happen if we did:"
   ]
  },
  {
   "cell_type": "code",
   "execution_count": 2,
   "id": "24690cab-c34c-4de8-8788-0da65d125561",
   "metadata": {},
   "outputs": [
    {
     "name": "stdout",
     "output_type": "stream",
     "text": [
      "['£0.40', '£1.20', '£12', '£3.50', '£1.60', '£0.40', '£1.60', '£1', '£0.50', '£1.60', '£8', '£1.20', '£3']\n"
     ]
    }
   ],
   "source": [
    "pounds = re.findall(r\"(£[0-9]+(?:\\.[0-9]{2})?)\", ingredients)\n",
    "print(pounds)"
   ]
  },
  {
   "cell_type": "markdown",
   "id": "3bcfe997-90fc-40f5-ae22-0df175d34cba",
   "metadata": {},
   "source": [
    "Clearly this is not what we need to happen since our numbers now have a £ symbol in them! To overcome this problem, we can use a feature of regular expressions called a positive lookbehind.\n",
    "\n",
    "A positive lookbehind is a type of group in a regular expression that is matched but not captured in the output. The group comes before our captured group, checking that the expression has a prefix. For example:"
   ]
  },
  {
   "cell_type": "code",
   "execution_count": 3,
   "id": "ce44a9fa-428d-4aa6-a87c-95146160cafc",
   "metadata": {},
   "outputs": [
    {
     "name": "stdout",
     "output_type": "stream",
     "text": [
      "['0.40', '1.20', '12', '3.50', '1.60', '0.40', '1.60', '1', '0.50', '1.60', '8', '1.20', '3']\n"
     ]
    }
   ],
   "source": [
    "pounds = re.findall(r\"(?<=£)([0-9]+(?:\\.[0-9]{2})?)\", ingredients)\n",
    "print(pounds)"
   ]
  },
  {
   "cell_type": "markdown",
   "id": "a33097a7-e6d1-47e1-9255-85f833ae8ac3",
   "metadata": {},
   "source": [
    "This is exactly what we need, giving us all numbers which are prefixed by a £ symbol. Let’s take a closer look at what is happening.\n",
    "\n",
    "| regex section                | what it means                                                                |\n",
    "|------------------------------|------------------------------------------------------------------------------|\n",
    "| `(?<=£)([0-9]+(?:.[0-9]{2})?)` | the full regular expression                                                  |\n",
    "| `______([0-9]+(?:.[0-9]{2})?)` | original number regex is unchanged                                           |\n",
    "| `(____)______________________` | a new group is introduced before our existing regex group                    |\n",
    "| `_?__________________________` | this group should be matched but not in the output                           |\n",
    "| `__<_________________________` | contents must happen before the next group in the regex (our original regex) |\n",
    "| `___=________________________` | match must equal the contents of this group                                  |\n",
    "| `____£_______________________` | what to match for, in this case the £ symbol                                 |\n",
    "\n",
    "Positive lookbehind is a really clean way of asserting that something has a prefix, whilst also ignoring the prefix from what is returned.\n",
    "\n"
   ]
  },
  {
   "cell_type": "markdown",
   "id": "9511cff2-66b0-4b26-a1cb-eafd27426265",
   "metadata": {},
   "source": [
    "## Negative lookahead\n",
    "\n",
    "At this point our list of numbers contains all £s. If we look closely at our ingredients list though we will see that some of these numbers are a cost, ie £1.20, and some of them are a unit price, ie, £12/kg. Our task is to get a total cost, and so we need a way to exclude all numbers which are a unit price.\n",
    "\n",
    "Regular expressions allow us to use a negation character, `^`, to describe things that should not match. Let’s try excluding forward slashes by adding `[^/]` to the end of our regex and see what happens:"
   ]
  },
  {
   "cell_type": "code",
   "execution_count": 4,
   "id": "943f6556-8bc5-4e55-b0ad-7727602eaf8e",
   "metadata": {},
   "outputs": [
    {
     "name": "stdout",
     "output_type": "stream",
     "text": [
      "['0', '1.20', '1', '3', '1.60', '0', '1', '0', '1.60', '1.20']\n"
     ]
    }
   ],
   "source": [
    "pounds = re.findall(r\"(?<=£)([0-9]+(?:\\.[0-9]{2})?)[^/]\", ingredients)\n",
    "print(pounds)"
   ]
  },
  {
   "cell_type": "markdown",
   "id": "e0134829-8843-46d4-af21-ea00eebc0645",
   "metadata": {},
   "source": [
    "Looking back at our ingredients something has gone wrong. We are expecting [‘1.20’, ‘1.60’, ‘1.60’, ‘1.20’] but somehow have extra numbers in our output. This is happening because `[^/]` is actually capturing any character that is not a forward slash, including other numbers, and decimal points!\n",
    "\n",
    "Thankfully, regular expressions offer an alternative approach to excluding things which will help us overcome this problem – negative lookahead. In this technique, we look ahead of our match for a suffix, and then only consider groups where the lookahead is negative. That is, where the lookahead does not exist."
   ]
  },
  {
   "cell_type": "code",
   "execution_count": 5,
   "id": "e9156dad-e991-4962-b24b-d644a2f092f5",
   "metadata": {},
   "outputs": [
    {
     "name": "stdout",
     "output_type": "stream",
     "text": [
      "['1.20', '1.60', '1.60', '1.20']\n"
     ]
    }
   ],
   "source": [
    "pounds = re.findall(r\"(?<=£)([0-9]+(?:\\.[0-9]{2})?)(?![/.0-9])\", ingredients)\n",
    "print(pounds)"
   ]
  },
  {
   "cell_type": "markdown",
   "id": "15d0f211-2e54-4923-82b2-329912257c94",
   "metadata": {},
   "source": [
    "Let’s take a closer look at the lookahead group we have created:\n",
    "\n",
    "| regex section                           | what it means                                                                                                |\n",
    "|-----------------------------------------|--------------------------------------------------------------------------------------------------------------|\n",
    "| `(?<=£)([0-9]+(?:.[0-9]{2})?)(?![/.0-9])` | the full regular expression                                                                                  |\n",
    "| `(?<=£)([0-9]+(?:.[0-9]{2})?)___________` | existing regex is unchanged                                                                                  |\n",
    "| `____________________________(_________)` | a new group is introduced after our existing regex group                                                     |\n",
    "| `_____________________________?_________` | this group should be matched but not in the output                                                           |\n",
    "| `______________________________!________` | previous group (the existing regex) must not be followed by the contents of this group                       |\n",
    "| `_______________________________[/.0-9]_` | what to match for, in this case any symbol which is either a forward slash, decimal place, or another digit. |\n",
    "\n",
    "One difference from the previous section is that we didn’t use any symbol to describe where to look. Recall that with a lookbehind we define our group as `(?< )` where the `<` denotes that this group describes a prefix. Rather than switching the `<` to a `>` regular expressions implicitly assume that when the `<` is missing the group must be a lookahead."
   ]
  },
  {
   "cell_type": "markdown",
   "id": "0df02028-cf14-42cc-a610-d0b919378c8d",
   "metadata": {},
   "source": [
    "## Positive lookahead\n",
    "\n",
    "Some costs in our list of ingredients are given in pence, not as pounds. For these, we need to define a different regular expression. Since pennies do not have a decimal point in them we can use a slightly simpler regular expression to find all numbers: `([0-9]+)`\n",
    "\n",
    "To filter the list of number does to pennies we can use the positive lookahead `(?=p)` to limit to any number that is followed by a “p”."
   ]
  },
  {
   "cell_type": "code",
   "execution_count": 6,
   "id": "416b9b87-5c63-4bb5-ba89-7b4c90e89303",
   "metadata": {},
   "outputs": [
    {
     "name": "stdout",
     "output_type": "stream",
     "text": [
      "['20', '8', '40', '12', '1', '50']\n"
     ]
    }
   ],
   "source": [
    "pennies = re.findall(r\"([0-9]+)(?=p)\", ingredients)\n",
    "print(pennies)"
   ]
  },
  {
   "cell_type": "markdown",
   "id": "b170f816-2ab8-4017-a1b6-3b565351fed0",
   "metadata": {},
   "source": [
    "This list is pretty close to what we want, but contains one extra number in it that we don’t want, the singular “1”. This has been extracted because our ingredients list contains “1pint”, which matches our expression for a number followed by a “p” character."
   ]
  },
  {
   "cell_type": "markdown",
   "id": "32e87fa4-9f3f-4969-abf6-ddbb649e99a8",
   "metadata": {},
   "source": [
    "## Negative lookbehind\n",
    "\n",
    "To filter our matches for pennies we can use the final type of lookaround that regular expressions allow, a negative lookbehind. Similar to a negative lookahead, this technique asserts that our pattern is not prefixed by another pattern. For the ingredients list we have, we can check that our pattern is not prefixed by a new line for example using the negative lookbehind `(?<!\\n)`:"
   ]
  },
  {
   "cell_type": "code",
   "execution_count": 7,
   "id": "9c110cf8-c004-41ad-a818-733786bc2f18",
   "metadata": {},
   "outputs": [
    {
     "name": "stdout",
     "output_type": "stream",
     "text": [
      "['20', '8', '40', '12', '50']\n"
     ]
    }
   ],
   "source": [
    "pennies = re.findall(r\"(?<!\\n)([0-9]+)(?=p)\", ingredients)\n",
    "print(pennies)"
   ]
  },
  {
   "cell_type": "markdown",
   "id": "cd6ff477-fed9-4f21-b127-500baf77ef65",
   "metadata": {},
   "source": [
    "This is now the correct list of pennies that we wanted to extract from our ingredients list!\n",
    "\n",
    "_Note: checking for a prefix newline worked for this specific example, but would not work if “1pint” was on the first line. How would you modify the pattern to handle that case? What if prices were given in p/pint?_"
   ]
  },
  {
   "cell_type": "markdown",
   "id": "67030719-395b-4612-b5d5-cf6a9af18ca0",
   "metadata": {},
   "source": [
    "## Putting it all together\n",
    "\n",
    "Now that we have defined a way of extracting all pounds and penny costs from our ingredients list, we can put it all together to calculate the final cost of the recipe:"
   ]
  },
  {
   "cell_type": "code",
   "execution_count": 8,
   "id": "8d4d2305-0727-4829-9d2c-73fd31706684",
   "metadata": {},
   "outputs": [
    {
     "name": "stdout",
     "output_type": "stream",
     "text": [
      "Recipe cost is £6.90\n"
     ]
    }
   ],
   "source": [
    "import re\n",
    " \n",
    "ingredients = \"\"\"\n",
    "500g plain flour - 20p @ £0.40/kg\n",
    "100g cocoa powder - £1.20 @ £12/kg\n",
    "4 tsp baking powder - 8p @ £3.50/kg\n",
    "4 large egg - £1.60 @ £0.40/each\n",
    "240g caster sugar - 40p @ £1.60/kg\n",
    "8 tbsp vegetable oil - 12p @ £1/kg\n",
    "1pint whole milk - 50p @ £0.50/pint\n",
    "200g chocolate chips (optional)  - £1.60 @ £8/kg\n",
    "400g icing sugar - £1.20 @ £3/kg\n",
    "\"\"\"\n",
    " \n",
    "pounds = re.findall(r\"(?<=£)\"  # positive lookbehind for £ symbol \n",
    "                    r\"([0-9]+\\.[0-9]{2})\"  # currency regex\n",
    "                    r\"(?![/.0-9])\",  # negative lookahead for / . and numbers\n",
    "                    ingredients)\n",
    " \n",
    "# convert to float\n",
    "pounds = [float(pound) for pound in pounds]\n",
    " \n",
    "pennies = re.findall(r\"(?<!\\n)\"  # negative lookbehind for newline\n",
    "                     r\"([0-9]+)\"  # number regex\n",
    "                     r\"(?=p)\",  # positive lookahead for p symbol\n",
    "                     ingredients)\n",
    " \n",
    "# convert to float and adjust to be in pounds\n",
    "pennies = [float(penny) / 100.0 for penny in pennies]\n",
    " \n",
    "cost = sum(pounds) + sum(pennies)\n",
    " \n",
    "print(f\"Recipe cost is £{cost:.2f}\")"
   ]
  },
  {
   "cell_type": "markdown",
   "id": "1138f7c6-3e2a-4142-b026-ea1cbdc15f79",
   "metadata": {},
   "source": [
    "The final cost we get is £6.90 – not bad for 24 chocolate muffins, working out at roughly 29p each!"
   ]
  },
  {
   "cell_type": "markdown",
   "id": "d8ed8711-8d30-4eb8-a58f-0787252d9404",
   "metadata": {},
   "source": [
    "## Summary\n",
    "\n",
    "Lookarounds in regular expressions are great when we want to capture the presence or absence of either a prefix or suffix, but do not want to keep the prefix or suffix in our match. The following table gives a quick go-to reference of each type of lookaround:\n",
    "\n",
    "| syntax  | name                | description                  |\n",
    "|---------|---------------------|------------------------------|\n",
    "| a(?=b)  | positive lookahead  | match “a” with suffix “b”    |\n",
    "| a(?!b)  | negative lookahead  | match “a” without suffix “b” |\n",
    "| (?<=b)a | positive lookbehind | match “a” with prefix “b”    |\n",
    "| (?<!b)a | negative lookbehind | match “a” without prefix “b” |\n",
    "\n",
    "In all examples “a” is part of the returned match while “b” is not returned."
   ]
  }
 ],
 "metadata": {
  "kernelspec": {
   "display_name": "Python 3 (ipykernel)",
   "language": "python",
   "name": "python3"
  },
  "language_info": {
   "codemirror_mode": {
    "name": "ipython",
    "version": 3
   },
   "file_extension": ".py",
   "mimetype": "text/x-python",
   "name": "python",
   "nbconvert_exporter": "python",
   "pygments_lexer": "ipython3",
   "version": "3.10.0"
  }
 },
 "nbformat": 4,
 "nbformat_minor": 5
}
