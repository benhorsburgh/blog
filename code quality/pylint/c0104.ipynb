{
 "cells": [
  {
   "cell_type": "markdown",
   "id": "e7acc48c-1aa8-4df2-bd4c-aab9e3002372",
   "metadata": {},
   "source": [
    "# PyLint: C0104 (disallowed-name)"
   ]
  },
  {
   "cell_type": "markdown",
   "id": "d8cc64ab-2640-4719-8af2-ffec29fa5397",
   "metadata": {
    "tags": []
   },
   "source": [
    "The PyLint Convention message C0104 is shown if you try to give something a name which is blacklisted. There are many reasons why you may want to blacklist certain names, for example, readability in certain fonts or languages. The following code snippet causes PyLint to raise the C0104 Convention message:"
   ]
  },
  {
   "cell_type": "code",
   "execution_count": 1,
   "id": "91b263e1-118e-436f-aee5-9c18703c3544",
   "metadata": {},
   "outputs": [],
   "source": [
    "def foo():\n",
    "    \"\"\"foo method\"\"\""
   ]
  },
  {
   "cell_type": "markdown",
   "id": "59bd9f3d-3d9c-433e-b4e9-c8daa0f7801f",
   "metadata": {},
   "source": [
    "The message raised by this example is:\n",
    "\n",
    "> C0104: Disallowed name \"foo\" (disallowed-name)\n",
    "\n",
    "Why does this raise the message? By default, PyLint comes with a list of names which are disallowed because they are commonly used in examples. If you ever copy one of these example, then probably you want to rename things which are within them. This makes the default list a really useful feature in PyLint.\n",
    "\n",
    "The [default list](https://pylint.pycqa.org/en/latest/technical_reference/features.html) of disallowed names at time of writing is:\n",
    "\n",
    "* foo\n",
    "* bar\n",
    "* baz\n",
    "* toto\n",
    "* tutu\n",
    "* tata"
   ]
  },
  {
   "cell_type": "markdown",
   "id": "5ec40df0-1315-4835-9d14-5ceebe2ec8f6",
   "metadata": {},
   "source": [
    "## Custom list of bad names\n",
    "\n",
    "PyLint allows you to customise the list of bad names that it uses when checking code. To do this, you must first create a file called `.pylintrc` at the root of your codebase, and then add the following to its contents:\n",
    "\n",
    "```ini\n",
    "[BASIC]\n",
    " \n",
    "bad-names=example,nothing\n",
    "```\n",
    "\n",
    "If we rerun the example above we no longer get the Convention message. The list that we provide here replaces the default list that PyLint uses. For this reason, it is much better practice to update the `.pylintrc` file as:\n",
    "\n",
    "```ini\n",
    "[BASIC]\n",
    " \n",
    "bad-names=foo,bar,baz,toto,tutu,tata,example,nothing\n",
    "```\n",
    "\n",
    "If we now create a new code snippet"
   ]
  },
  {
   "cell_type": "code",
   "execution_count": 2,
   "id": "9e64a32e-5883-4cf4-be9c-76d9de572afe",
   "metadata": {},
   "outputs": [],
   "source": [
    "def foo(nothing):\n",
    "    example = nothing\n",
    "    return example"
   ]
  },
  {
   "cell_type": "markdown",
   "id": "ab4904b4-3ff6-4ea9-8482-fd4f93d77cac",
   "metadata": {},
   "source": [
    "then we will get several warning about the names we have used, based on the list of bad-names that we provided:\n",
    "\n",
    "> C0104: Disallowed name \"foo\" (disallowed-name)<br/>\n",
    "> C0104: Disallowed name \"nothing\" (disallowed-name)<br/>\n",
    "> C0104: Disallowed name \"example\" (disallowed-name)"
   ]
  },
  {
   "cell_type": "markdown",
   "id": "53cb9c6d-95ee-47c0-872c-9422f0a8cd19",
   "metadata": {},
   "source": [
    "## Custom patterns of bad names\n",
    "\n",
    "Adding to the list of bad-names that PyLint disallows is a great way to exclude a small number of explicit names. For example, perhaps we could exclude all names that match our project name, because they could be confusing.\n",
    "\n",
    "There are instances though where we want to disallow all names which match some naming pattern. For example, a common bad style used when people start to program is to suffix variables with numbers. This is not only very unreadable, but also extremely difficult for team members to maintain. In this case, we can use PyLint to guide better coding styles by disallowing such variable names.\n",
    "\n",
    "Consider the following snippet:"
   ]
  },
  {
   "cell_type": "code",
   "execution_count": 3,
   "id": "7129c934-c4b8-4f5f-ac0e-8b3cee417e58",
   "metadata": {},
   "outputs": [],
   "source": [
    "def trapezoid_area(bottom, top, height) -> int:\n",
    "    calc_1 = bottom + top\n",
    "    calc_2 = calc_1 / 2\n",
    "    calc_3 = calc_2 * height\n",
    "    return calc_3"
   ]
  },
  {
   "cell_type": "markdown",
   "id": "b17a937f-1718-4862-8af6-c2651ded7350",
   "metadata": {},
   "source": [
    "Here we have the variables `calc_1`, `calc_2`, and `calc_3` which are very tricky to read and maintain. To disallow such naming, we can update our `.pylintrc` file to the following:\n",
    "\n",
    "```ini\n",
    "[BASIC]\n",
    " \n",
    "bad-names=foo,bar,baz,toto,tutu,tata,example,something,nothing\n",
    " \n",
    "bad-names-rgxs=calc_[0-9]*,comp_[0-9]*\n",
    "```\n",
    "\n",
    "The comma-separated list of regular expressions for bad-names-rgxs allows us to describe naming patterns that are disallowed, in this case, anything starting either `calc_` or `comp_`, and ending with a number.\n",
    "\n",
    "When we re-run PyLint now, we get the following new Convention messages:\n",
    "\n",
    "> C0104: Disallowed name \"calc_1\" (disallowed-name)<br/>\n",
    "> C0104: Disallowed name \"calc_2\" (disallowed-name)<br/>\n",
    "> C0104: Disallowed name \"calc_3\" (disallowed-name)"
   ]
  },
  {
   "cell_type": "markdown",
   "id": "9d6f4a11-87fc-4bc7-b53c-e7cbafd69b70",
   "metadata": {},
   "source": [
    "## Final thoughts\n",
    "\n",
    "PyLint C0104 (disallowed-name) is a really helpful tool to help make code more meaningful and understandable. It is super easy to add both lists of disallowed names, and patterns. These are powerful tools to help more junior developers avoid common mistakes, and drive consistency and maintainability across a codebase."
   ]
  }
 ],
 "metadata": {
  "kernelspec": {
   "display_name": "Python 3 (ipykernel)",
   "language": "python",
   "name": "python3"
  },
  "language_info": {
   "codemirror_mode": {
    "name": "ipython",
    "version": 3
   },
   "file_extension": ".py",
   "mimetype": "text/x-python",
   "name": "python",
   "nbconvert_exporter": "python",
   "pygments_lexer": "ipython3",
   "version": "3.10.0"
  }
 },
 "nbformat": 4,
 "nbformat_minor": 5
}
