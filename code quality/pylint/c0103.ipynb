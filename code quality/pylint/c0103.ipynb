{
 "cells": [
  {
   "cell_type": "markdown",
   "id": "e7acc48c-1aa8-4df2-bd4c-aab9e3002372",
   "metadata": {},
   "source": [
    "# PyLint: C0103 (invalid-name) "
   ]
  },
  {
   "cell_type": "markdown",
   "id": "d8cc64ab-2640-4719-8af2-ffec29fa5397",
   "metadata": {
    "tags": []
   },
   "source": [
    "A PyLint Convention message C0103 is raised anytime you use a name for something which does not conform to the python standard naming conventions. For example, you may get the following message if you name a method argument `MyArg`.\n",
    "\n",
    "> C0103: Argument name \"MyArg\" doesn't conform to snake_case naming style (invalid-name)\n",
    "\n",
    "There are a few clues here that help us figure out what is going wrong:\n",
    "\n",
    "* `Argument` refers to us defining something in a method signature.\n",
    "* `MyArg` lets us know the exact argument we have named incorrectly\n",
    "* `snake_case` lets us know we should be using all lower case with words separated by an underscore.\n",
    "\n",
    "This is nice and easy to fix: we simply refactor-rename `MyArg` to `my_arg` and the message will disappear."
   ]
  },
  {
   "cell_type": "markdown",
   "id": "59bd9f3d-3d9c-433e-b4e9-c8daa0f7801f",
   "metadata": {},
   "source": [
    "## Problem example\n",
    "\n",
    "The following code block has many different naming which violate the PyLint naming conventions. Can you spot what they all are?"
   ]
  },
  {
   "cell_type": "code",
   "execution_count": 1,
   "id": "e3cb80e7-4fd7-43bc-852b-dbceb915581c",
   "metadata": {},
   "outputs": [],
   "source": [
    "MyConstant = 1\n",
    " \n",
    " \n",
    "def MyFunc():\n",
    "    return None\n",
    " \n",
    " \n",
    "class myClass:\n",
    " \n",
    "    def myMethod(self, MyArg):\n",
    "        return self, [Var*2 for Var in MyArg]"
   ]
  },
  {
   "cell_type": "markdown",
   "id": "801ff32b-1c7d-4fee-a210-8ead2072ad0e",
   "metadata": {},
   "source": [
    "If we run PyLint against the code snippet we get the following C0103 convention messages:\n",
    "\n",
    "> C0103: Constant name \"MyConstant\" doesn't conform to UPPER_CASE naming style (invalid-name)<br/>\n",
    "> C0103: Function name \"MyFunc\" doesn't conform to snake_case naming style (invalid-name)<br/>\n",
    "> C0103: Class name \"myClass\" doesn't conform to PascalCase naming style (invalid-name)<br/>\n",
    "> C0103: Method name \"myMethod\" doesn't conform to snake_case naming style (invalid-name)<br/>\n",
    "> C0103: Argument name \"MyArg\" doesn't conform to snake_case naming style (invalid-name)"
   ]
  },
  {
   "cell_type": "markdown",
   "id": "c46ebf5e-bd82-4eca-bb44-3ef67939685b",
   "metadata": {},
   "source": [
    "## Resolved example\n",
    "\n",
    "In the following code block we resolve each of the convention messages that PyLint printed."
   ]
  },
  {
   "cell_type": "code",
   "execution_count": 2,
   "id": "800109c3-10c6-4065-a024-e7ab9512537a",
   "metadata": {},
   "outputs": [],
   "source": [
    "MY_CONSTANT = 1\n",
    " \n",
    " \n",
    "def my_func():\n",
    "    return None\n",
    " \n",
    " \n",
    "class MyClass:\n",
    " \n",
    "    def my_method(self, my_arg):\n",
    "        return self, my_arg"
   ]
  },
  {
   "cell_type": "markdown",
   "id": "c45ed7fb-37aa-4e47-9725-80c3e9346a8b",
   "metadata": {},
   "source": [
    "The following changes were made:\n",
    "\n",
    "* `MyConstant` refactor-renamed to `MY_CONSTANT`\n",
    "* `MyFunc` refactor-renamed to `my_func`\n",
    "* `myClass` refactor-renamed to `MyClass`\n",
    "* `myMethod` refactor-renamed to `my_method`\n",
    "* `MyArg` refactor-renamed to `my_arg`"
   ]
  },
  {
   "cell_type": "markdown",
   "id": "e5372729-fc67-4983-89aa-198f43621545",
   "metadata": {},
   "source": [
    "## Final thoughts\n",
    "\n",
    "PyLint C0103 is a really helpful message to catch some really simple, obvious naming convention violations. However, it doesn’t catch everything that is defined within the [official python naming conventions](https://www.python.org/dev/peps/pep-0008/#naming-conventions). For example, at time of writing, PyLint confuses a `TypeVar` as a Class name, and raises the naming convention message.\n",
    "\n",
    "Good names make it easier for others to follow, maintain, and improve your code. It is always worth fixing these convention messages, and practicing writing code in a more pythonic way."
   ]
  }
 ],
 "metadata": {
  "kernelspec": {
   "display_name": "Python 3 (ipykernel)",
   "language": "python",
   "name": "python3"
  },
  "language_info": {
   "codemirror_mode": {
    "name": "ipython",
    "version": 3
   },
   "file_extension": ".py",
   "mimetype": "text/x-python",
   "name": "python",
   "nbconvert_exporter": "python",
   "pygments_lexer": "ipython3",
   "version": "3.10.0"
  }
 },
 "nbformat": 4,
 "nbformat_minor": 5
}
